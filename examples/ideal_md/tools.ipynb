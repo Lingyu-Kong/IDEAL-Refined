{
 "cells": [
  {
   "cell_type": "code",
   "execution_count": null,
   "metadata": {},
   "outputs": [],
   "source": [
    "from ase.io import read, write\n",
    "from ase.calculators.singlepoint import SinglePointCalculator\n",
    "import numpy as np\n",
    "\n",
    "atoms_list = read(\"./FeHKN_surface_subs.xyz\", index=\":\")\n",
    "for i in range(len(atoms_list)):\n",
    "    atoms = atoms_list[i]\n",
    "    atoms.set_calculator(SinglePointCalculator(atoms, energy=0.0, forces=np.zeros((len(atoms), 3)), stress=np.zeros(6)))\n",
    "write(\"../../contents/habor-bosch/init.xyz\", atoms_list)"
   ]
  },
  {
   "cell_type": "code",
   "execution_count": 1,
   "metadata": {},
   "outputs": [
    {
     "data": {
      "text/plain": [
       "{'NN': 896,\n",
       " 'HH': 364,\n",
       " 'NH': 0,\n",
       " 'FeN': 11,\n",
       " 'FeH': 548,\n",
       " 'KN': tensor(0),\n",
       " 'KH': tensor(0)}"
      ]
     },
     "execution_count": 1,
     "metadata": {},
     "output_type": "execute_result"
    }
   ],
   "source": [
    "from ase.io import read, write\n",
    "from ideal.utils.habor_bosch import compute_coordination\n",
    "\n",
    "\n",
    "atoms_list = read(\"./K0-1800K/Fe989-K0-semi_embedded_deep-298atmH2-326atmN2_md.xyz\", index=\":\")\n",
    "atoms_list = atoms_list[-1000:]\n",
    "write(\"./md.xyz\", atoms_list)\n",
    "atoms_list = read(\"./md.xyz\", index=\":\")\n",
    "compute_coordination(atoms_list[-1], base_element=\"Fe\", promoter_element=\"K\")"
   ]
  },
  {
   "cell_type": "code",
   "execution_count": null,
   "metadata": {},
   "outputs": [],
   "source": []
  }
 ],
 "metadata": {
  "kernelspec": {
   "display_name": "ideal",
   "language": "python",
   "name": "python3"
  },
  "language_info": {
   "codemirror_mode": {
    "name": "ipython",
    "version": 3
   },
   "file_extension": ".py",
   "mimetype": "text/x-python",
   "name": "python",
   "nbconvert_exporter": "python",
   "pygments_lexer": "ipython3",
   "version": "3.10.16"
  }
 },
 "nbformat": 4,
 "nbformat_minor": 2
}
