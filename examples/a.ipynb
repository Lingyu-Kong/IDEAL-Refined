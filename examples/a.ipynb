{
 "cells": [
  {
   "cell_type": "markdown",
   "metadata": {},
   "source": []
  },
  {
   "cell_type": "code",
   "execution_count": 1,
   "metadata": {},
   "outputs": [
    {
     "name": "stdout",
     "output_type": "stream",
     "text": [
      "335\n"
     ]
    }
   ],
   "source": [
    "from ase.io import read, write\n",
    "import numpy as np\n",
    "\n",
    "# atoms_list = read(\"/nethome/lkong88/IDEAL/contents/hidden/FeLi_vasp/FeLi_mol_aimd.xyz\", index=\":\")\n",
    "# indices = np.random.choice(len(atoms_list), 2000, replace=False)\n",
    "# atoms_list = [atoms_list[i] for i in indices]\n",
    "\n",
    "# atoms_list.extend(read(\"/nethome/lkong88/IDEAL/contents/hidden/FeLi_vasp/FeLi_mol_single_point.xyz\", index=\":\"))\n",
    "# slab_aimd = read(\"/nethome/lkong88/IDEAL/contents/hidden/FeLi_vasp/FeLi_slab_aimd.xyz\", index=\":\")\n",
    "# for slab in slab_aimd:\n",
    "#     forces = slab.get_forces()\n",
    "#     if np.all(np.linalg.norm(forces, axis=1) < 100):\n",
    "#         atoms_list.append(slab)\n",
    "# # atoms_list.extend(read(\"/nethome/lkong88/IDEAL/contents/hidden/FeLi_vasp/FeLi_slab_aimd.xyz\", index=\":\"))\n",
    "# atoms_list.extend(read(\"/nethome/lkong88/IDEAL/contents/hidden/FeLi_vasp/FeLi_slab_single_point.xyz\", index=\":\"))\n",
    "\n",
    "# print(len(atoms_list))\n",
    "# write(\"../contents/habor-bosch/init_FeLi.xyz\", atoms_list)\n",
    "\n",
    "atoms_list = read(\"/nethome/lkong88/IDEAL/contents/hidden/FeLi_vasp/FeLi_mol_single_point.xyz\", index=\":\")\n",
    "atoms_list.extend(read(\"/nethome/lkong88/IDEAL/contents/hidden/FeLi_vasp/FeLi_slab_single_point.xyz\", index=\":\"))\n",
    "print(len(atoms_list))\n",
    "write(\"../contents/habor-bosch/init_FeLi_single_point.xyz\", atoms_list)"
   ]
  },
  {
   "cell_type": "code",
   "execution_count": null,
   "metadata": {},
   "outputs": [],
   "source": []
  }
 ],
 "metadata": {
  "kernelspec": {
   "display_name": "ideal",
   "language": "python",
   "name": "python3"
  },
  "language_info": {
   "codemirror_mode": {
    "name": "ipython",
    "version": 3
   },
   "file_extension": ".py",
   "mimetype": "text/x-python",
   "name": "python",
   "nbconvert_exporter": "python",
   "pygments_lexer": "ipython3",
   "version": "3.10.16"
  }
 },
 "nbformat": 4,
 "nbformat_minor": 2
}
