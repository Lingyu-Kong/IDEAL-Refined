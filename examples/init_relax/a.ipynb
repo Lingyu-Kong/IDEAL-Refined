{
 "cells": [
  {
   "cell_type": "code",
   "execution_count": 1,
   "metadata": {},
   "outputs": [],
   "source": [
    "from ase.io import read, write\n",
    "\n",
    "atoms = read(\"/nethome/lkong88/IDEAL/examples/init_relax/Fe2125-K24-on_surface-326atmH2-326atmN2_relax_traj.xyz\", index=-1)\n",
    "write(\"Relaxed_Fe2125-K24-on_surface-326atmH2-326atmN2.xyz\", atoms)"
   ]
  },
  {
   "cell_type": "code",
   "execution_count": null,
   "metadata": {},
   "outputs": [],
   "source": []
  }
 ],
 "metadata": {
  "kernelspec": {
   "display_name": "ideal",
   "language": "python",
   "name": "python3"
  },
  "language_info": {
   "codemirror_mode": {
    "name": "ipython",
    "version": 3
   },
   "file_extension": ".py",
   "mimetype": "text/x-python",
   "name": "python",
   "nbconvert_exporter": "python",
   "pygments_lexer": "ipython3",
   "version": "3.10.16"
  }
 },
 "nbformat": 4,
 "nbformat_minor": 2
}
