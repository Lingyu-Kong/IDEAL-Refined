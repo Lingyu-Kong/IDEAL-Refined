{
 "cells": [
  {
   "cell_type": "code",
   "execution_count": 1,
   "metadata": {},
   "outputs": [
    {
     "name": "stdout",
     "output_type": "stream",
     "text": [
      "torch.Size([10, 100])\n"
     ]
    }
   ],
   "source": [
    "import numpy as np\n",
    "import torch\n",
    "\n",
    "soap_features = torch.randn(10, 100).float()\n",
    "soap_features.requires_grad = True\n",
    "uncs = torch.zeros((10, 1), dtype=torch.float32)\n",
    "for i in range(10):\n",
    "    mu, kernel_inv = np.random.randn(100), np.random.randn(100, 100)\n",
    "    soap_i = soap_features[i].reshape(1, -1)\n",
    "    soap_i = (\n",
    "        soap_i / torch.norm(soap_i, dim=1, keepdim=True)\n",
    "    ) - torch.from_numpy(mu).float().reshape(1, -1)\n",
    "    unc_i = torch.mm(soap_i, torch.from_numpy(kernel_inv).to(torch.float32)).mm(\n",
    "        soap_i.t()\n",
    "    )\n",
    "    uncs[i] = unc_i\n",
    "unc = torch.mean(uncs)\n",
    "unc.backward()\n",
    "grad = soap_features.grad\n",
    "print(grad.shape)"
   ]
  },
  {
   "cell_type": "code",
   "execution_count": 5,
   "metadata": {},
   "outputs": [
    {
     "name": "stdout",
     "output_type": "stream",
     "text": [
      "Uncertainty threshold at 99.0% confidence: 168.13320306666492\n"
     ]
    }
   ],
   "source": [
    "import scipy.stats as stats\n",
    "\n",
    "# 参数\n",
    "feature_dim = 128  # SOAP 特征维度\n",
    "confidence_level = 0.99  # 置信水平 (1 - α)\n",
    "\n",
    "# 卡方分布的逆累积分布函数 (inverse CDF)\n",
    "unc_threshold = stats.chi2.ppf(confidence_level, df=feature_dim)\n",
    "print(f\"Uncertainty threshold at {confidence_level*100}% confidence: {unc_threshold}\")\n"
   ]
  },
  {
   "cell_type": "code",
   "execution_count": null,
   "metadata": {},
   "outputs": [],
   "source": []
  }
 ],
 "metadata": {
  "kernelspec": {
   "display_name": "ideal",
   "language": "python",
   "name": "python3"
  },
  "language_info": {
   "codemirror_mode": {
    "name": "ipython",
    "version": 3
   },
   "file_extension": ".py",
   "mimetype": "text/x-python",
   "name": "python",
   "nbconvert_exporter": "python",
   "pygments_lexer": "ipython3",
   "version": "3.10.16"
  }
 },
 "nbformat": 4,
 "nbformat_minor": 2
}
